{
 "cells": [
  {
   "cell_type": "markdown",
   "metadata": {},
   "source": [
    "##   Compare Documents Similarity  \n",
    "###       MAGNUM OPUS TASK"
   ]
  },
  {
   "cell_type": "markdown",
   "metadata": {},
   "source": [
    "<b >REQUIRMENTS \n",
    "<br>\n",
    "1.NLTK\n",
    "<br>\n",
    "2.Gensim\n",
    "<br>\n",
    "3.NumPy"
   ]
  },
  {
   "cell_type": "markdown",
   "metadata": {},
   "source": [
    "<b>Tokenize of words (NLTK)"
   ]
  },
  {
   "cell_type": "code",
   "execution_count": 1,
   "metadata": {},
   "outputs": [
    {
     "name": "stdout",
     "output_type": "stream",
     "text": [
      "['Whether', 'Mass', 'Military', 'sequence', 'or', 'long', 'train', 'comedy', 'sequence', 'or', 'the', 'terrific', 'interval', 'action', 'sequence..', 'He', 'is', 'Mass', 'Mersal', '!', 'Family', 'audience', 'are', 'loving', 'the', 'comedy..', 'Safe', 'to', 'say', 'this', 'is', 'a', 'Blockbuster', '!']\n"
     ]
    }
   ],
   "source": [
    "from nltk.tokenize import word_tokenize\n",
    "import gensim\n",
    "import numpy as np\n",
    "\n",
    "data = \"\"\"Whether Mass Military sequence or long train comedy sequence or the terrific interval action sequence.. \n",
    "He is Mass Mersal!  Family audience are loving the comedy.. Safe to say this is a Blockbuster!\"\"\"\n",
    "print(word_tokenize(data))"
   ]
  },
  {
   "cell_type": "markdown",
   "metadata": {},
   "source": [
    "<b>Tokenize of sentences(NLTK)"
   ]
  },
  {
   "cell_type": "code",
   "execution_count": 2,
   "metadata": {},
   "outputs": [
    {
     "name": "stdout",
     "output_type": "stream",
     "text": [
      "['Whether Mass Military sequence or long train comedy sequence or the terrific interval action sequence..', 'He is Mass Mersal!', 'Family audience are loving the comedy..', 'Safe to say this is a Blockbuster!']\n"
     ]
    }
   ],
   "source": [
    "from nltk.tokenize import sent_tokenize\n",
    "\n",
    "data = \"\"\"Whether Mass Military sequence or long train comedy sequence or the terrific interval action sequence..\n",
    "He is Mass Mersal!  Family audience are loving the comedy.. Safe to say this is a Blockbuster!\"\"\"\n",
    "print(sent_tokenize(data))"
   ]
  },
  {
   "cell_type": "markdown",
   "metadata": {},
   "source": [
    "<b> Opening FIle and Tokenize Sentences</b>\n",
    "    <br><i>now we are opening text file and splitting in sentences"
   ]
  },
  {
   "cell_type": "code",
   "execution_count": 3,
   "metadata": {},
   "outputs": [
    {
     "name": "stdout",
     "output_type": "stream",
     "text": [
      "Number of documents: 8\n"
     ]
    }
   ],
   "source": [
    "import nltk\n",
    "from nltk.tokenize import word_tokenize, sent_tokenize\n",
    "\n",
    "file_docs = []\n",
    "\n",
    "with open ('maheshbabu.txt') as f:\n",
    "    tokens = sent_tokenize(f.read())\n",
    "    for line in tokens:\n",
    "        file_docs.append(line)\n",
    "\n",
    "print(\"Number of documents:\",len(file_docs))"
   ]
  },
  {
   "cell_type": "markdown",
   "metadata": {},
   "source": [
    "<b>Tokenize words and create dictionary</b><br>\n",
    "<i>we added tokenized sentences in array"
   ]
  },
  {
   "cell_type": "code",
   "execution_count": 4,
   "metadata": {},
   "outputs": [],
   "source": [
    "gen_docs = [[w.lower() for w in word_tokenize(text)] \n",
    "            for text in file_docs]"
   ]
  },
  {
   "cell_type": "code",
   "execution_count": 5,
   "metadata": {},
   "outputs": [
    {
     "name": "stdout",
     "output_type": "stream",
     "text": [
      "[['mahesh', 'babu', '(', 'born', 'mahesh', 'ghattamaneni', 'on', '9', 'august', '1975', ')', 'is', 'an', 'indian', 'actor', ',', 'producer', ',', 'media', 'personality', ',', 'and', 'philanthropist', 'known', 'for', 'his', 'works', 'in', 'telugu', 'cinema', '.'], ['he', 'owns', 'the', 'production', 'house', 'g.', 'mahesh', 'babu', 'entertainment', 'pvt', '.'], ['ltd', '.'], ['the', 'younger', 'son', 'of', 'veteran', 'telugu', 'actor', 'krishna', ',', 'mahesh', 'made', 'his', 'cameo', 'as', 'a', 'child', 'artist', 'in', 'needa', '(', '1979', ')', ',', 'at', 'the', 'age', 'of', 'four', ',', 'and', 'acted', 'in', 'eight', 'other', 'films', 'as', 'a', 'child', 'artist', '.'], ['he', 'made', 'his', 'debut', 'as', 'a', 'lead', 'actor', 'with', 'rajakumarudu', '(', '1999', ')', 'and', 'won', 'the', 'state', 'nandi', 'award', 'for', 'best', 'male', 'debut', '.'], ['mahesh', 'achieved', 'his', 'breakthrough', 'with', 'the', 'supernatural', 'drama', 'murari', '(', '2001', ')', ',', 'and', 'the', 'action', 'film', 'okkadu', '(', '2003', ')', '.'], ['he', 'went', 'on', 'to', 'act', 'in', 'other', 'commercially', 'successful', 'films', 'such', 'as', 'arjun', '(', '2004', ')', ',', 'athadu', '(', '2005', ')', ',', 'pokiri', '(', '2006', ')', ',', 'dookudu', '(', '2011', ')', ',', 'businessman', '(', '2012', ')', ',', 'seethamma', 'vakitlo', 'sirimalle', 'chettu', '(', '2013', ')', ',', '1', ':', 'nenokkadine', '(', '2014', ')', ',', 'srimanthudu', '(', '2015', ')', ',', 'bharat', 'ane', 'nenu', '(', '2018', ')', 'maharshi', '(', '2019', ')', 'some', 'of', 'which', 'rank', 'among', 'the', 'list', 'of', 'highest-grossing', 'telugu', 'films', '.'], ['to', 'date', ',', 'he', 'has', 'won', 'eight', 'nandi', 'awards', ',', 'five', 'filmfare', 'awards', ',', 'three', 'cinemaa', 'awards', ',', 'three', 'south', 'indian', 'international', 'movie', 'awards', 'and', 'one', 'international', 'indian', 'film', 'academy', 'award', '.']]\n"
     ]
    }
   ],
   "source": [
    "print(gen_docs )# printing thetokenize words"
   ]
  },
  {
   "cell_type": "markdown",
   "metadata": {},
   "source": [
    "<b>In Order to work on text documents gensim requires the words as tokens and having unique id's."
   ]
  },
  {
   "cell_type": "code",
   "execution_count": 6,
   "metadata": {},
   "outputs": [
    {
     "name": "stdout",
     "output_type": "stream",
     "text": [
      "{'(': 0, ')': 1, ',': 2, '.': 3, '1975': 4, '9': 5, 'actor': 6, 'an': 7, 'and': 8, 'august': 9, 'babu': 10, 'born': 11, 'cinema': 12, 'for': 13, 'ghattamaneni': 14, 'his': 15, 'in': 16, 'indian': 17, 'is': 18, 'known': 19, 'mahesh': 20, 'media': 21, 'on': 22, 'personality': 23, 'philanthropist': 24, 'producer': 25, 'telugu': 26, 'works': 27, 'entertainment': 28, 'g.': 29, 'he': 30, 'house': 31, 'owns': 32, 'production': 33, 'pvt': 34, 'the': 35, 'ltd': 36, '1979': 37, 'a': 38, 'acted': 39, 'age': 40, 'artist': 41, 'as': 42, 'at': 43, 'cameo': 44, 'child': 45, 'eight': 46, 'films': 47, 'four': 48, 'krishna': 49, 'made': 50, 'needa': 51, 'of': 52, 'other': 53, 'son': 54, 'veteran': 55, 'younger': 56, '1999': 57, 'award': 58, 'best': 59, 'debut': 60, 'lead': 61, 'male': 62, 'nandi': 63, 'rajakumarudu': 64, 'state': 65, 'with': 66, 'won': 67, '2001': 68, '2003': 69, 'achieved': 70, 'action': 71, 'breakthrough': 72, 'drama': 73, 'film': 74, 'murari': 75, 'okkadu': 76, 'supernatural': 77, '1': 78, '2004': 79, '2005': 80, '2006': 81, '2011': 82, '2012': 83, '2013': 84, '2014': 85, '2015': 86, '2018': 87, '2019': 88, ':': 89, 'act': 90, 'among': 91, 'ane': 92, 'arjun': 93, 'athadu': 94, 'bharat': 95, 'businessman': 96, 'chettu': 97, 'commercially': 98, 'dookudu': 99, 'highest-grossing': 100, 'list': 101, 'maharshi': 102, 'nenokkadine': 103, 'nenu': 104, 'pokiri': 105, 'rank': 106, 'seethamma': 107, 'sirimalle': 108, 'some': 109, 'srimanthudu': 110, 'successful': 111, 'such': 112, 'to': 113, 'vakitlo': 114, 'went': 115, 'which': 116, 'academy': 117, 'awards': 118, 'cinemaa': 119, 'date': 120, 'filmfare': 121, 'five': 122, 'has': 123, 'international': 124, 'movie': 125, 'one': 126, 'south': 127, 'three': 128}\n"
     ]
    }
   ],
   "source": [
    "dictionary = gensim.corpora.Dictionary(gen_docs)\n",
    "print(dictionary.token2id)"
   ]
  },
  {
   "cell_type": "markdown",
   "metadata": {},
   "source": [
    "<b> Creating a Bag of words"
   ]
  },
  {
   "cell_type": "code",
   "execution_count": 7,
   "metadata": {},
   "outputs": [],
   "source": [
    "corpus = [dictionary.doc2bow(gen_doc) for gen_doc in gen_docs]"
   ]
  },
  {
   "cell_type": "code",
   "execution_count": 8,
   "metadata": {},
   "outputs": [
    {
     "name": "stdout",
     "output_type": "stream",
     "text": [
      "[[(0, 1), (1, 1), (2, 3), (3, 1), (4, 1), (5, 1), (6, 1), (7, 1), (8, 1), (9, 1), (10, 1), (11, 1), (12, 1), (13, 1), (14, 1), (15, 1), (16, 1), (17, 1), (18, 1), (19, 1), (20, 2), (21, 1), (22, 1), (23, 1), (24, 1), (25, 1), (26, 1), (27, 1)], [(3, 1), (10, 1), (20, 1), (28, 1), (29, 1), (30, 1), (31, 1), (32, 1), (33, 1), (34, 1), (35, 1)], [(3, 1), (36, 1)], [(0, 1), (1, 1), (2, 3), (3, 1), (6, 1), (8, 1), (15, 1), (16, 2), (20, 1), (26, 1), (35, 2), (37, 1), (38, 2), (39, 1), (40, 1), (41, 2), (42, 2), (43, 1), (44, 1), (45, 2), (46, 1), (47, 1), (48, 1), (49, 1), (50, 1), (51, 1), (52, 2), (53, 1), (54, 1), (55, 1), (56, 1)], [(0, 1), (1, 1), (3, 1), (6, 1), (8, 1), (13, 1), (15, 1), (30, 1), (35, 1), (38, 1), (42, 1), (50, 1), (57, 1), (58, 1), (59, 1), (60, 2), (61, 1), (62, 1), (63, 1), (64, 1), (65, 1), (66, 1), (67, 1)], [(0, 2), (1, 2), (2, 1), (3, 1), (8, 1), (15, 1), (20, 1), (35, 2), (66, 1), (68, 1), (69, 1), (70, 1), (71, 1), (72, 1), (73, 1), (74, 1), (75, 1), (76, 1), (77, 1)], [(0, 10), (1, 10), (2, 8), (3, 1), (16, 1), (22, 1), (26, 1), (30, 1), (35, 1), (42, 1), (47, 2), (52, 2), (53, 1), (78, 1), (79, 1), (80, 1), (81, 1), (82, 1), (83, 1), (84, 1), (85, 1), (86, 1), (87, 1), (88, 1), (89, 1), (90, 1), (91, 1), (92, 1), (93, 1), (94, 1), (95, 1), (96, 1), (97, 1), (98, 1), (99, 1), (100, 1), (101, 1), (102, 1), (103, 1), (104, 1), (105, 1), (106, 1), (107, 1), (108, 1), (109, 1), (110, 1), (111, 1), (112, 1), (113, 1), (114, 1), (115, 1), (116, 1)], [(2, 4), (3, 1), (8, 1), (17, 2), (30, 1), (46, 1), (58, 1), (63, 1), (67, 1), (74, 1), (113, 1), (117, 1), (118, 4), (119, 1), (120, 1), (121, 1), (122, 1), (123, 1), (124, 2), (125, 1), (126, 1), (127, 1), (128, 2)]]\n"
     ]
    }
   ],
   "source": [
    "print(corpus)"
   ]
  },
  {
   "cell_type": "markdown",
   "metadata": {},
   "source": [
    "<br><br><center><Strong>TFIDF </Strong> </center>\n",
    "Term Frequency – Inverse Document Frequency(TF-IDF) is also a bag-of-words model but unlike the regular corpus, TFIDF down weights tokens (words) that appears frequently across documents."
   ]
  },
  {
   "cell_type": "code",
   "execution_count": 9,
   "metadata": {},
   "outputs": [
    {
     "name": "stdout",
     "output_type": "stream",
     "text": [
      "[['(', 0.05], [')', 0.05], [',', 0.16], ['1975', 0.24], ['9', 0.24], ['actor', 0.11], ['an', 0.24], ['and', 0.05], ['august', 0.24], ['babu', 0.16], ['born', 0.24], ['cinema', 0.24], ['for', 0.16], ['ghattamaneni', 0.24], ['his', 0.08], ['in', 0.11], ['indian', 0.16], ['is', 0.24], ['known', 0.24], ['mahesh', 0.16], ['media', 0.24], ['on', 0.16], ['personality', 0.24], ['philanthropist', 0.24], ['producer', 0.24], ['telugu', 0.11], ['works', 0.24]]\n",
      "[['babu', 0.26], ['mahesh', 0.13], ['entertainment', 0.39], ['g.', 0.39], ['he', 0.13], ['house', 0.39], ['owns', 0.39], ['production', 0.39], ['pvt', 0.39], ['the', 0.09]]\n",
      "[['ltd', 1.0]]\n",
      "[['(', 0.04], [')', 0.04], [',', 0.13], ['actor', 0.09], ['and', 0.04], ['his', 0.06], ['in', 0.18], ['mahesh', 0.06], ['telugu', 0.09], ['the', 0.09], ['1979', 0.19], ['a', 0.25], ['acted', 0.19], ['age', 0.19], ['artist', 0.38], ['as', 0.18], ['at', 0.19], ['cameo', 0.19], ['child', 0.38], ['eight', 0.13], ['films', 0.13], ['four', 0.19], ['krishna', 0.19], ['made', 0.13], ['needa', 0.19], ['of', 0.25], ['other', 0.13], ['son', 0.19], ['veteran', 0.19], ['younger', 0.19]]\n",
      "[['(', 0.06], [')', 0.06], ['actor', 0.13], ['and', 0.06], ['for', 0.18], ['his', 0.09], ['he', 0.09], ['the', 0.06], ['a', 0.18], ['as', 0.13], ['made', 0.18], ['1999', 0.27], ['award', 0.18], ['best', 0.27], ['debut', 0.53], ['lead', 0.27], ['male', 0.27], ['nandi', 0.18], ['rajakumarudu', 0.27], ['state', 0.27], ['with', 0.18], ['won', 0.18]]\n",
      "[['(', 0.14], [')', 0.14], [',', 0.07], ['and', 0.07], ['his', 0.1], ['mahesh', 0.1], ['the', 0.14], ['with', 0.2], ['2001', 0.3], ['2003', 0.3], ['achieved', 0.3], ['action', 0.3], ['breakthrough', 0.3], ['drama', 0.3], ['film', 0.2], ['murari', 0.3], ['okkadu', 0.3], ['supernatural', 0.3]]\n",
      "[['(', 0.3], [')', 0.3], [',', 0.24], ['in', 0.06], ['on', 0.09], ['telugu', 0.06], ['he', 0.04], ['the', 0.03], ['as', 0.06], ['films', 0.18], ['of', 0.18], ['other', 0.09], ['1', 0.13], ['2004', 0.13], ['2005', 0.13], ['2006', 0.13], ['2011', 0.13], ['2012', 0.13], ['2013', 0.13], ['2014', 0.13], ['2015', 0.13], ['2018', 0.13], ['2019', 0.13], [':', 0.13], ['act', 0.13], ['among', 0.13], ['ane', 0.13], ['arjun', 0.13], ['athadu', 0.13], ['bharat', 0.13], ['businessman', 0.13], ['chettu', 0.13], ['commercially', 0.13], ['dookudu', 0.13], ['highest-grossing', 0.13], ['list', 0.13], ['maharshi', 0.13], ['nenokkadine', 0.13], ['nenu', 0.13], ['pokiri', 0.13], ['rank', 0.13], ['seethamma', 0.13], ['sirimalle', 0.13], ['some', 0.13], ['srimanthudu', 0.13], ['successful', 0.13], ['such', 0.13], ['to', 0.09], ['vakitlo', 0.13], ['went', 0.13], ['which', 0.13]]\n",
      "[[',', 0.15], ['and', 0.04], ['indian', 0.22], ['he', 0.05], ['eight', 0.11], ['award', 0.11], ['nandi', 0.11], ['won', 0.11], ['film', 0.11], ['to', 0.11], ['academy', 0.16], ['awards', 0.65], ['cinemaa', 0.16], ['date', 0.16], ['filmfare', 0.16], ['five', 0.16], ['has', 0.16], ['international', 0.32], ['movie', 0.16], ['one', 0.16], ['south', 0.16], ['three', 0.32]]\n"
     ]
    }
   ],
   "source": [
    "tf_idf = gensim.models.TfidfModel(corpus)\n",
    "for doc in tf_idf[corpus]:\n",
    "    print([[dictionary[id], np.around(freq, decimals=2)] for id, freq in doc])\n"
   ]
  },
  {
   "cell_type": "markdown",
   "metadata": {},
   "source": [
    "<b>Creating similarity measure object"
   ]
  },
  {
   "cell_type": "code",
   "execution_count": 10,
   "metadata": {},
   "outputs": [],
   "source": [
    " # building the index\n",
    " sims = gensim.similarities.Similarity(\"C:\\\\Users\\\\Shivaji potnuru\\\\wordir\",tf_idf[corpus],\n",
    "                                        num_features=len(dictionary))"
   ]
  },
  {
   "cell_type": "code",
   "execution_count": 11,
   "metadata": {},
   "outputs": [
    {
     "name": "stdout",
     "output_type": "stream",
     "text": [
      "Number of documents: 8\n"
     ]
    }
   ],
   "source": [
    "file2_docs = []\n",
    "\n",
    "with open ('maheshbabu2.txt') as f:\n",
    "    tokens = sent_tokenize(f.read())\n",
    "    for line in tokens:\n",
    "        file2_docs.append(line)\n",
    "\n",
    "print(\"Number of documents:\",len(file2_docs))  \n",
    "for line in file2_docs:\n",
    "    query_doc = [w.lower() for w in word_tokenize(line)]\n",
    "    query_doc_bow = dictionary.doc2bow(query_doc) #update an existing dictionary andcreate bag of words"
   ]
  },
  {
   "cell_type": "markdown",
   "metadata": {},
   "source": [
    "<b>Document similarities to query</b>\n",
    "<br>\n",
    "\n",
    "<i>At this stage, you will see similarities between the query and all index documents. To obtain similarities of our query document against the indexed documents:"
   ]
  },
  {
   "cell_type": "code",
   "execution_count": 12,
   "metadata": {},
   "outputs": [
    {
     "name": "stdout",
     "output_type": "stream",
     "text": [
      "Comparing Result:\t [0.17869107 0.03214956 0.         0.06352083 0.15603971 0.10129932\n",
      " 0.03307706 0.01344267]\n"
     ]
    }
   ],
   "source": [
    "# perform a similarity query against the corpus\n",
    "query_doc_tf_idf = tf_idf[query_doc_bow]\n",
    "# print(document_number, document_similarity)\n",
    "print('Comparing Result:\\t', sims[query_doc_tf_idf]) "
   ]
  },
  {
   "cell_type": "markdown",
   "metadata": {},
   "source": [
    "<b>Cosine measure returns similarities in the range (the greater, the more similar)."
   ]
  },
  {
   "cell_type": "markdown",
   "metadata": {},
   "source": [
    "<b>AVERAGE SIMILARITY"
   ]
  },
  {
   "cell_type": "code",
   "execution_count": 13,
   "metadata": {},
   "outputs": [
    {
     "name": "stdout",
     "output_type": "stream",
     "text": [
      "0.57822025\n"
     ]
    }
   ],
   "source": [
    "sum_of_sims =(np.sum(sims[query_doc_tf_idf], dtype=np.float32))\n",
    "print(sum_of_sims)"
   ]
  },
  {
   "cell_type": "code",
   "execution_count": 14,
   "metadata": {},
   "outputs": [
    {
     "name": "stdout",
     "output_type": "stream",
     "text": [
      "Average similarity float: 0.07227753102779388\n",
      "Average similarity percentage: 7.227753102779388\n",
      "Average similarity rounded percentage: 7\n"
     ]
    }
   ],
   "source": [
    "percentage_of_similarity = round(float((sum_of_sims / len(file_docs)) * 100))\n",
    "print(f'Average similarity float: {float(sum_of_sims / len(file_docs))}')\n",
    "print(f'Average similarity percentage: {float(sum_of_sims / len(file_docs)) * 100}')\n",
    "print(f'Average similarity rounded percentage: {percentage_of_similarity}')"
   ]
  },
  {
   "cell_type": "markdown",
   "metadata": {},
   "source": [
    "<b>Files compared are :-"
   ]
  },
  {
   "cell_type": "code",
   "execution_count": 15,
   "metadata": {},
   "outputs": [],
   "source": [
    " f=open(\"C:\\\\Users\\\\Shivaji potnuru\\\\maheshbabu.txt\",\"r\")"
   ]
  },
  {
   "cell_type": "code",
   "execution_count": 16,
   "metadata": {},
   "outputs": [
    {
     "name": "stdout",
     "output_type": "stream",
     "text": [
      "Mahesh Babu (born Mahesh Ghattamaneni on 9 August 1975) is an Indian actor, producer, media personality, and philanthropist known for his works in Telugu cinema. He owns the production house G. Mahesh Babu Entertainment Pvt. Ltd. The younger son of veteran Telugu actor Krishna, Mahesh made his cameo as a child artist in Needa (1979), at the age of four, and acted in eight other films as a child artist. He made his debut as a lead actor with Rajakumarudu (1999) and won the State Nandi Award for Best Male Debut.\n",
      "\n",
      "Mahesh achieved his breakthrough with the supernatural drama Murari (2001), and the action film Okkadu (2003). He went on to act in other commercially successful films such as Arjun (2004), Athadu (2005), Pokiri (2006), Dookudu (2011), Businessman (2012), Seethamma Vakitlo Sirimalle Chettu (2013), 1: Nenokkadine (2014), Srimanthudu (2015), Bharat Ane Nenu (2018) Maharshi (2019) some of which rank among the List of highest-grossing Telugu films. To date, he has won eight Nandi Awards, five Filmfare Awards, three CineMAA Awards, three South Indian International Movie Awards and one International Indian Film Academy Award.\n"
     ]
    }
   ],
   "source": [
    "file_contents = f.read()\n",
    "print(file_contents)"
   ]
  },
  {
   "cell_type": "code",
   "execution_count": 17,
   "metadata": {},
   "outputs": [
    {
     "name": "stdout",
     "output_type": "stream",
     "text": [
      "Mahesh achieved his breakthrough with the supernatural drama Murari (2001), and the action film Okkadu (2003). He went on to act in other commercially successful films such as Arjun (2004), Athadu (2005), Pokiri (2006), Dookudu (2011), Businessman (2012), Seethamma Vakitlo Sirimalle Chettu (2013), 1: Nenokkadine (2014), Srimanthudu (2015), Bharat Ane Nenu (2018) Maharshi (2019) some of which rank among the List of highest-grossing Telugu films. To date, he has won eight Nandi Awards, five Filmfare Awards, three CineMAA Awards, three South Indian International Movie Awards and one International Indian Film Academy Award.\n",
      "\n",
      "Mahesh has been cited in the media as one of the most attractive male celebrities in India. His accomplishments have established him as a leading actor in Telugu cinema. Referred in the media as the Prince of Tollywood, he is one of the most popular and influential actors of Telugu cinema,and is described as the superstar of Telugu cinema by the audience. In addition to his acting career, Mahesh is an active humanitarian and philanthropist through his charitable trust and non-profit organisation Heal-a-Child. He is also associated with Rainbow Hospitals as their goodwill ambassador.\n"
     ]
    }
   ],
   "source": [
    " f=open(\"C:\\\\Users\\\\Shivaji potnuru\\\\maheshbabu2.txt\",\"r\")\n",
    "file_contents = f.read()\n",
    "print(file_contents)"
   ]
  }
 ],
 "metadata": {
  "kernelspec": {
   "display_name": "Python 3",
   "language": "python",
   "name": "python3"
  },
  "language_info": {
   "codemirror_mode": {
    "name": "ipython",
    "version": 3
   },
   "file_extension": ".py",
   "mimetype": "text/x-python",
   "name": "python",
   "nbconvert_exporter": "python",
   "pygments_lexer": "ipython3",
   "version": "3.7.4"
  }
 },
 "nbformat": 4,
 "nbformat_minor": 2
}

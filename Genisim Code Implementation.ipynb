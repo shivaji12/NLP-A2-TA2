{
 "cells": [
  {
   "cell_type": "markdown",
   "metadata": {},
   "source": [
    "###  Gensim Code Implementation"
   ]
  },
  {
   "cell_type": "code",
   "execution_count": 12,
   "metadata": {},
   "outputs": [],
   "source": [
    "#SHIVAJI POTNURU -17BCE2095\n",
    "import pandas as pd\n",
    "from gensim.models import Word2Vec\n",
    "import numpy as np"
   ]
  },
  {
   "cell_type": "code",
   "execution_count": 23,
   "metadata": {},
   "outputs": [
    {
     "data": {
      "text/html": [
       "<div>\n",
       "<style scoped>\n",
       "    .dataframe tbody tr th:only-of-type {\n",
       "        vertical-align: middle;\n",
       "    }\n",
       "\n",
       "    .dataframe tbody tr th {\n",
       "        vertical-align: top;\n",
       "    }\n",
       "\n",
       "    .dataframe thead th {\n",
       "        text-align: right;\n",
       "    }\n",
       "</style>\n",
       "<table border=\"1\" class=\"dataframe\">\n",
       "  <thead>\n",
       "    <tr style=\"text-align: right;\">\n",
       "      <th></th>\n",
       "      <th>Make</th>\n",
       "      <th>Model</th>\n",
       "      <th>Year</th>\n",
       "      <th>Engine Fuel Type</th>\n",
       "      <th>Engine HP</th>\n",
       "      <th>Engine Cylinders</th>\n",
       "      <th>Transmission Type</th>\n",
       "      <th>Driven_Wheels</th>\n",
       "      <th>Number of Doors</th>\n",
       "      <th>Market Category</th>\n",
       "      <th>Vehicle Size</th>\n",
       "      <th>Vehicle Style</th>\n",
       "      <th>highway MPG</th>\n",
       "      <th>city mpg</th>\n",
       "      <th>Popularity</th>\n",
       "      <th>MSRP</th>\n",
       "    </tr>\n",
       "  </thead>\n",
       "  <tbody>\n",
       "    <tr>\n",
       "      <th>0</th>\n",
       "      <td>BMW</td>\n",
       "      <td>1 Series M</td>\n",
       "      <td>2011</td>\n",
       "      <td>premium unleaded (required)</td>\n",
       "      <td>335.0</td>\n",
       "      <td>6.0</td>\n",
       "      <td>MANUAL</td>\n",
       "      <td>rear wheel drive</td>\n",
       "      <td>2.0</td>\n",
       "      <td>Factory Tuner,Luxury,High-Performance</td>\n",
       "      <td>Compact</td>\n",
       "      <td>Coupe</td>\n",
       "      <td>26</td>\n",
       "      <td>19</td>\n",
       "      <td>3916</td>\n",
       "      <td>46135</td>\n",
       "    </tr>\n",
       "    <tr>\n",
       "      <th>1</th>\n",
       "      <td>BMW</td>\n",
       "      <td>1 Series</td>\n",
       "      <td>2011</td>\n",
       "      <td>premium unleaded (required)</td>\n",
       "      <td>300.0</td>\n",
       "      <td>6.0</td>\n",
       "      <td>MANUAL</td>\n",
       "      <td>rear wheel drive</td>\n",
       "      <td>2.0</td>\n",
       "      <td>Luxury,Performance</td>\n",
       "      <td>Compact</td>\n",
       "      <td>Convertible</td>\n",
       "      <td>28</td>\n",
       "      <td>19</td>\n",
       "      <td>3916</td>\n",
       "      <td>40650</td>\n",
       "    </tr>\n",
       "    <tr>\n",
       "      <th>2</th>\n",
       "      <td>BMW</td>\n",
       "      <td>1 Series</td>\n",
       "      <td>2011</td>\n",
       "      <td>premium unleaded (required)</td>\n",
       "      <td>300.0</td>\n",
       "      <td>6.0</td>\n",
       "      <td>MANUAL</td>\n",
       "      <td>rear wheel drive</td>\n",
       "      <td>2.0</td>\n",
       "      <td>Luxury,High-Performance</td>\n",
       "      <td>Compact</td>\n",
       "      <td>Coupe</td>\n",
       "      <td>28</td>\n",
       "      <td>20</td>\n",
       "      <td>3916</td>\n",
       "      <td>36350</td>\n",
       "    </tr>\n",
       "  </tbody>\n",
       "</table>\n",
       "</div>"
      ],
      "text/plain": [
       "  Make       Model  Year             Engine Fuel Type  Engine HP  \\\n",
       "0  BMW  1 Series M  2011  premium unleaded (required)      335.0   \n",
       "1  BMW    1 Series  2011  premium unleaded (required)      300.0   \n",
       "2  BMW    1 Series  2011  premium unleaded (required)      300.0   \n",
       "\n",
       "   Engine Cylinders Transmission Type     Driven_Wheels  Number of Doors  \\\n",
       "0               6.0            MANUAL  rear wheel drive              2.0   \n",
       "1               6.0            MANUAL  rear wheel drive              2.0   \n",
       "2               6.0            MANUAL  rear wheel drive              2.0   \n",
       "\n",
       "                         Market Category Vehicle Size Vehicle Style  \\\n",
       "0  Factory Tuner,Luxury,High-Performance      Compact         Coupe   \n",
       "1                     Luxury,Performance      Compact   Convertible   \n",
       "2                Luxury,High-Performance      Compact         Coupe   \n",
       "\n",
       "   highway MPG  city mpg  Popularity   MSRP  \n",
       "0           26        19        3916  46135  \n",
       "1           28        19        3916  40650  \n",
       "2           28        20        3916  36350  "
      ]
     },
     "execution_count": 23,
     "metadata": {},
     "output_type": "execute_result"
    }
   ],
   "source": [
    "# SHIVAJI POTNURU -17BCE2095\n",
    "df = pd.read_csv('data.csv')\n",
    "df.head(3)"
   ]
  },
  {
   "cell_type": "code",
   "execution_count": 10,
   "metadata": {},
   "outputs": [],
   "source": [
    "df['Maker_Model']= df['Make']+ \" \" + df['Model']"
   ]
  },
  {
   "cell_type": "code",
   "execution_count": 14,
   "metadata": {},
   "outputs": [
    {
     "data": {
      "text/plain": [
       "[['premium unleaded (required)',\n",
       "  'MANUAL',\n",
       "  'rear wheel drive',\n",
       "  'Factory Tuner',\n",
       "  'Luxury',\n",
       "  'High-Performance',\n",
       "  'Compact',\n",
       "  'Coupe',\n",
       "  'BMW 1 Series M'],\n",
       " ['premium unleaded (required)',\n",
       "  'MANUAL',\n",
       "  'rear wheel drive',\n",
       "  'Luxury',\n",
       "  'Performance',\n",
       "  'Compact',\n",
       "  'Convertible',\n",
       "  'BMW 1 Series']]"
      ]
     },
     "execution_count": 14,
     "metadata": {},
     "output_type": "execute_result"
    }
   ],
   "source": [
    "# Select features from original dataset to form a new dataframe \n",
    "df1 = df[['Engine Fuel Type','Transmission Type','Driven_Wheels','Market Category','Vehicle Size', 'Vehicle Style', 'Maker_Model']]\n",
    "# For each row, combine all the columns into one column\n",
    "df2 = df1.apply(lambda x: ','.join(x.astype(str)), axis=1) \n",
    "# Store them in the pandas dataframe\n",
    "df_clean = pd.DataFrame({'clean': df2}) \n",
    "# Create the list of list format of the custom corpus for gensim modeling \n",
    "sent = [row.split(',') for row in df_clean['clean']]\n",
    "# show the example of list of list format of the custom corpus for gensim modeling \n",
    "sent[:2]"
   ]
  },
  {
   "cell_type": "code",
   "execution_count": 15,
   "metadata": {},
   "outputs": [
    {
     "name": "stderr",
     "output_type": "stream",
     "text": [
      "WARNING - 22:03:32: consider setting layer size to a multiple of 4 for greater performance\n",
      "INFO - 22:03:32: collecting all words and their counts\n",
      "INFO - 22:03:32: PROGRESS: at sentence #0, processed 0 words, keeping 0 word types\n",
      "INFO - 22:03:32: PROGRESS: at sentence #10000, processed 74060 words, keeping 841 word types\n",
      "INFO - 22:03:32: collected 977 word types from a corpus of 88129 raw words and 11914 sentences\n",
      "INFO - 22:03:32: Loading a fresh vocabulary\n",
      "INFO - 22:03:32: effective_min_count=1 retains 977 unique words (100% of original 977, drops 0)\n",
      "INFO - 22:03:32: effective_min_count=1 leaves 88129 word corpus (100% of original 88129, drops 0)\n",
      "INFO - 22:03:32: deleting the raw counts dictionary of 977 items\n",
      "INFO - 22:03:32: sample=0.001 downsamples 35 most-common words\n",
      "INFO - 22:03:32: downsampling leaves estimated 29996 word corpus (34.0% of prior 88129)\n",
      "INFO - 22:03:32: estimated required memory for 977 words and 50 dimensions: 879300 bytes\n",
      "INFO - 22:03:32: resetting layer weights\n",
      "INFO - 22:03:32: training model with 3 workers on 977 vocabulary and 50 features, using sg=1 hs=0 sample=0.001 negative=5 window=3\n",
      "INFO - 22:03:32: worker thread finished; awaiting finish of 2 more threads\n",
      "INFO - 22:03:32: worker thread finished; awaiting finish of 1 more threads\n",
      "INFO - 22:03:32: worker thread finished; awaiting finish of 0 more threads\n",
      "INFO - 22:03:32: EPOCH - 1 : training on 88129 raw words (30096 effective words) took 0.0s, 616465 effective words/s\n",
      "INFO - 22:03:32: worker thread finished; awaiting finish of 2 more threads\n",
      "INFO - 22:03:32: worker thread finished; awaiting finish of 1 more threads\n",
      "INFO - 22:03:32: worker thread finished; awaiting finish of 0 more threads\n",
      "INFO - 22:03:32: EPOCH - 2 : training on 88129 raw words (29941 effective words) took 0.1s, 592846 effective words/s\n",
      "INFO - 22:03:33: worker thread finished; awaiting finish of 2 more threads\n",
      "INFO - 22:03:33: worker thread finished; awaiting finish of 1 more threads\n",
      "INFO - 22:03:33: worker thread finished; awaiting finish of 0 more threads\n",
      "INFO - 22:03:33: EPOCH - 3 : training on 88129 raw words (29907 effective words) took 0.0s, 612011 effective words/s\n",
      "INFO - 22:03:33: worker thread finished; awaiting finish of 2 more threads\n",
      "INFO - 22:03:33: worker thread finished; awaiting finish of 1 more threads\n",
      "INFO - 22:03:33: worker thread finished; awaiting finish of 0 more threads\n",
      "INFO - 22:03:33: EPOCH - 4 : training on 88129 raw words (30034 effective words) took 0.1s, 562007 effective words/s\n",
      "INFO - 22:03:33: worker thread finished; awaiting finish of 2 more threads\n",
      "INFO - 22:03:33: worker thread finished; awaiting finish of 1 more threads\n",
      "INFO - 22:03:33: worker thread finished; awaiting finish of 0 more threads\n",
      "INFO - 22:03:33: EPOCH - 5 : training on 88129 raw words (29926 effective words) took 0.1s, 588826 effective words/s\n",
      "INFO - 22:03:33: training on a 440645 raw words (149904 effective words) took 0.3s, 470010 effective words/s\n"
     ]
    }
   ],
   "source": [
    "\n",
    "model = Word2Vec(sent, min_count=1,size= 50,workers=3, window =3, sg = 1)"
   ]
  },
  {
   "cell_type": "code",
   "execution_count": 16,
   "metadata": {},
   "outputs": [
    {
     "data": {
      "text/plain": [
       "array([-0.22898814, -0.09773818,  0.01796286,  0.01331466,  0.18603301,\n",
       "       -0.0046909 ,  0.00163025,  0.07534418,  0.06510144, -0.14282319,\n",
       "       -0.050434  ,  0.11580154, -0.06147866, -0.08691876,  0.05269143,\n",
       "        0.2014131 , -0.04983442, -0.03460547,  0.1945814 , -0.16982523,\n",
       "        0.06380296, -0.02519956,  0.00432519,  0.14639027, -0.09541232,\n",
       "        0.12704617, -0.23735353, -0.05265463, -0.16313933,  0.33597362,\n",
       "       -0.10991915,  0.0685427 , -0.10856429, -0.07116935, -0.1174611 ,\n",
       "       -0.10287756, -0.10213673,  0.20331003, -0.02589334, -0.18953131,\n",
       "       -0.08219158,  0.00824378, -0.10020942, -0.1132197 ,  0.09334049,\n",
       "        0.11679623,  0.07712796, -0.17813939, -0.23549387, -0.25192422],\n",
       "      dtype=float32)"
      ]
     },
     "execution_count": 16,
     "metadata": {},
     "output_type": "execute_result"
    }
   ],
   "source": [
    "model['Toyota Camry']"
   ]
  },
  {
   "cell_type": "code",
   "execution_count": 17,
   "metadata": {},
   "outputs": [
    {
     "data": {
      "text/plain": [
       "0.87075526"
      ]
     },
     "execution_count": 17,
     "metadata": {},
     "output_type": "execute_result"
    }
   ],
   "source": [
    "model.similarity('Porsche 718 Cayman', 'Nissan Van')"
   ]
  },
  {
   "cell_type": "code",
   "execution_count": 18,
   "metadata": {},
   "outputs": [
    {
     "data": {
      "text/plain": [
       "0.96583116"
      ]
     },
     "execution_count": 18,
     "metadata": {},
     "output_type": "execute_result"
    }
   ],
   "source": [
    "model.similarity('Porsche 718 Cayman', 'Mercedes-Benz SLK-Class')"
   ]
  },
  {
   "cell_type": "code",
   "execution_count": 21,
   "metadata": {},
   "outputs": [
    {
     "name": "stderr",
     "output_type": "stream",
     "text": [
      "INFO - 22:05:07: precomputing L2-norms of word weight vectors\n"
     ]
    },
    {
     "data": {
      "text/plain": [
       "[('Ferrari 599', 0.9957362413406372),\n",
       " ('Nissan GT-R', 0.9948686361312866),\n",
       " ('Infiniti G Convertible', 0.9944510459899902),\n",
       " ('Lamborghini Murcielago', 0.9942276477813721),\n",
       " ('Mercedes-Benz SL-Class', 0.9941688179969788)]"
      ]
     },
     "execution_count": 21,
     "metadata": {},
     "output_type": "execute_result"
    }
   ],
   "source": [
    "## Show the most similar vehicles for Mercedes-Benz SLK-Class : Default by eculidean distance \n",
    "model.most_similar('Mercedes-Benz SLK-Class')[:5]"
   ]
  }
 ],
 "metadata": {
  "kernelspec": {
   "display_name": "Python 3.7.4 32-bit",
   "language": "python",
   "name": "python37432bitc87b7a81d43f4a5fb8eb4bff85ec1eeb"
  },
  "language_info": {
   "codemirror_mode": {
    "name": "ipython",
    "version": 3
   },
   "file_extension": ".py",
   "mimetype": "text/x-python",
   "name": "python",
   "nbconvert_exporter": "python",
   "pygments_lexer": "ipython3",
   "version": "3.7.4"
  }
 },
 "nbformat": 4,
 "nbformat_minor": 2
}
